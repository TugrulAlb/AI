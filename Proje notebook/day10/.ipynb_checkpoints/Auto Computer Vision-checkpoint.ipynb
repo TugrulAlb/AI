{
 "cells": [
  {
   "cell_type": "code",
   "execution_count": null,
   "id": "a28697d6-5eec-4875-a6e3-3d1877e07a18",
   "metadata": {},
   "outputs": [],
   "source": [
    "import cv2\n",
    "import matplotlib.pyplot as plt\n",
    "import cvlib\n",
    "from cvlib.object_detection import draw_bbox"
   ]
  },
  {
   "cell_type": "code",
   "execution_count": null,
   "id": "3d5b4496-f0e6-4114-b929-2fbeaafcd818",
   "metadata": {},
   "outputs": [],
   "source": [
    "img = cv2.imread('cars.jpg')"
   ]
  },
  {
   "cell_type": "code",
   "execution_count": null,
   "id": "1e56e7bb-afa4-489f-8af2-ac9af41d2d11",
   "metadata": {},
   "outputs": [],
   "source": [
    "plt.imshow(img)"
   ]
  },
  {
   "cell_type": "code",
   "execution_count": null,
   "id": "75d4dbb2-f807-4b2e-9f75-6ea195b35566",
   "metadata": {},
   "outputs": [],
   "source": [
    "box, label, count = cvlib.detect_common_objects(img)"
   ]
  },
  {
   "cell_type": "code",
   "execution_count": null,
   "id": "b7a1ab4b-7dd0-4515-81f6-5797cc42554b",
   "metadata": {},
   "outputs": [],
   "source": [
    "output = draw_bbox(img, box, label, count)"
   ]
  },
  {
   "cell_type": "code",
   "execution_count": null,
   "id": "04279271-d9f7-414f-8073-be159f9e8951",
   "metadata": {},
   "outputs": [],
   "source": [
    "plt.figure(figsize=(10, 10))\n",
    "plt.imshow(output)"
   ]
  },
  {
   "cell_type": "code",
   "execution_count": null,
   "id": "b9703ca7-cf2b-4f1c-b547-a56a2f412822",
   "metadata": {},
   "outputs": [],
   "source": [
    "label.count('car')"
   ]
  },
  {
   "cell_type": "code",
   "execution_count": null,
   "id": "48ac7420-5fa7-4bb5-8278-9695b4ae368b",
   "metadata": {},
   "outputs": [],
   "source": [
    "label.count('person')"
   ]
  },
  {
   "cell_type": "code",
   "execution_count": null,
   "id": "ef2e338e-948a-4efa-84ba-6714d6edac65",
   "metadata": {},
   "outputs": [],
   "source": [
    "img = cv2.imread(g8.jpg)"
   ]
  },
  {
   "cell_type": "code",
   "execution_count": null,
   "id": "c9ecd30a-ffbf-458f-8977-84fe3c3f79ba",
   "metadata": {},
   "outputs": [],
   "source": [
    "plt.imshow(img)"
   ]
  },
  {
   "cell_type": "code",
   "execution_count": null,
   "id": "ca87b11f-b01c-4448-a633-4e1712c1e699",
   "metadata": {},
   "outputs": [],
   "source": [
    "box, label, count = cvlib.detect_common_objects(img)"
   ]
  },
  {
   "cell_type": "code",
   "execution_count": null,
   "id": "99c8697d-03a6-4549-9d2a-480a0f102f81",
   "metadata": {},
   "outputs": [],
   "source": [
    "output = draw_bbox(img, box, label, count)"
   ]
  },
  {
   "cell_type": "code",
   "execution_count": null,
   "id": "d8c71b0f-4f36-4005-aecd-f30d33ad8d02",
   "metadata": {},
   "outputs": [],
   "source": [
    "plt.figure(figsize=(10, 10))\n",
    "plt.imshow(output)"
   ]
  },
  {
   "cell_type": "code",
   "execution_count": null,
   "id": "cea35efb-c8ab-4c1c-8975-e5428f01545a",
   "metadata": {},
   "outputs": [],
   "source": [
    "label.count('person')"
   ]
  },
  {
   "cell_type": "code",
   "execution_count": null,
   "id": "34505d08-c2a0-4266-b2db-aa9000e93177",
   "metadata": {},
   "outputs": [],
   "source": []
  }
 ],
 "metadata": {
  "kernelspec": {
   "display_name": "Python [conda env:base] *",
   "language": "python",
   "name": "conda-base-py"
  },
  "language_info": {
   "codemirror_mode": {
    "name": "ipython",
    "version": 3
   },
   "file_extension": ".py",
   "mimetype": "text/x-python",
   "name": "python",
   "nbconvert_exporter": "python",
   "pygments_lexer": "ipython3",
   "version": "3.12.2"
  }
 },
 "nbformat": 4,
 "nbformat_minor": 5
}
